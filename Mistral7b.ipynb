{
 "cells": [
  {
   "cell_type": "code",
   "execution_count": 1,
   "metadata": {},
   "outputs": [
    {
     "name": "stdout",
     "output_type": "stream",
     "text": [
      "Pinecone API Key: 16db50ea-6d7a-43fe-8c8f-2e78efdd3f98\n"
     ]
    }
   ],
   "source": [
    "import os\n",
    "from dotenv import load_dotenv\n",
    "\n",
    "# Load the environment variables\n",
    "load_dotenv()\n",
    "\n",
    "# Retrieve API keys\n",
    "PINECONE_API_KEY = os.getenv(\"PINECONE_API_KEY\")\n",
    "\n",
    "# Check if keys are loaded (optional, remove in production)\n",
    "print(\"Pinecone API Key:\", PINECONE_API_KEY)"
   ]
  },
  {
   "cell_type": "code",
   "execution_count": 2,
   "metadata": {},
   "outputs": [
    {
     "name": "stderr",
     "output_type": "stream",
     "text": [
      "c:\\Users\\1rn17\\chatbot\\.venv\\Lib\\site-packages\\tqdm\\auto.py:21: TqdmWarning: IProgress not found. Please update jupyter and ipywidgets. See https://ipywidgets.readthedocs.io/en/stable/user_install.html\n",
      "  from .autonotebook import tqdm as notebook_tqdm\n"
     ]
    },
    {
     "name": "stdout",
     "output_type": "stream",
     "text": [
      "4.46.0\n"
     ]
    }
   ],
   "source": [
    "import transformers\n",
    "print(transformers.__version__)\n",
    "\n"
   ]
  },
  {
   "cell_type": "markdown",
   "metadata": {},
   "source": [
    "LOAD BASE MODEL"
   ]
  },
  {
   "cell_type": "code",
   "execution_count": 3,
   "metadata": {},
   "outputs": [
    {
     "name": "stderr",
     "output_type": "stream",
     "text": [
      "Loading checkpoint shards: 100%|██████████| 2/2 [01:10<00:00, 35.33s/it]\n"
     ]
    }
   ],
   "source": [
    "# Load model directly\n",
    "from transformers import AutoTokenizer, AutoModelForCausalLM\n",
    "\n",
    "tokenizer = AutoTokenizer.from_pretrained(\"mistralai/Mistral-7B-v0.1\")\n",
    "model = AutoModelForCausalLM.from_pretrained(\"mistralai/Mistral-7B-v0.1\")"
   ]
  },
  {
   "cell_type": "code",
   "execution_count": 3,
   "metadata": {},
   "outputs": [
    {
     "name": "stdout",
     "output_type": "stream",
     "text": [
      "GPU is available and ready to use: NVIDIA GeForce RTX 4060 Laptop GPU\n"
     ]
    }
   ],
   "source": [
    "import torch\n",
    "\n",
    "if torch.cuda.is_available():\n",
    "    print(\"GPU is available and ready to use:\", torch.cuda.get_device_name(0))\n",
    "else:\n",
    "    print(\"GPU not detected; using CPU.\")\n"
   ]
  },
  {
   "cell_type": "code",
   "execution_count": 4,
   "metadata": {},
   "outputs": [
    {
     "name": "stdout",
     "output_type": "stream",
     "text": [
      "Sat Nov  9 13:15:14 2024       \n",
      "+-----------------------------------------------------------------------------------------+\n",
      "| NVIDIA-SMI 560.94                 Driver Version: 560.94         CUDA Version: 12.6     |\n",
      "|-----------------------------------------+------------------------+----------------------+\n",
      "| GPU  Name                  Driver-Model | Bus-Id          Disp.A | Volatile Uncorr. ECC |\n",
      "| Fan  Temp   Perf          Pwr:Usage/Cap |           Memory-Usage | GPU-Util  Compute M. |\n",
      "|                                         |                        |               MIG M. |\n",
      "|=========================================+========================+======================|\n",
      "|   0  NVIDIA GeForce RTX 4060 ...  WDDM  |   00000000:01:00.0 Off |                  N/A |\n",
      "| N/A   42C    P3             11W /   35W |       0MiB /   8188MiB |      0%      Default |\n",
      "|                                         |                        |                  N/A |\n",
      "+-----------------------------------------+------------------------+----------------------+\n",
      "                                                                                         \n",
      "+-----------------------------------------------------------------------------------------+\n",
      "| Processes:                                                                              |\n",
      "|  GPU   GI   CI        PID   Type   Process name                              GPU Memory |\n",
      "|        ID   ID                                                               Usage      |\n",
      "|=========================================================================================|\n",
      "|  No running processes found                                                             |\n",
      "+-----------------------------------------------------------------------------------------+\n"
     ]
    }
   ],
   "source": [
    "!nvidia-smi\n"
   ]
  },
  {
   "cell_type": "code",
   "execution_count": 18,
   "metadata": {},
   "outputs": [
    {
     "name": "stdout",
     "output_type": "stream",
     "text": [
      "2.5.1+cu118\n",
      "True\n",
      "11.8\n"
     ]
    }
   ],
   "source": [
    "import torch\n",
    "print(torch.__version__)\n",
    "print(torch.cuda.is_available())\n",
    "print(torch.version.cuda)  # This should show \"12.6\" or compatible\n"
   ]
  },
  {
   "cell_type": "code",
   "execution_count": 5,
   "metadata": {},
   "outputs": [],
   "source": [
    "os.environ[\"PYTORCH_CUDA_ALLOC_CONF\"] = \"expandable_segments:True\"\n"
   ]
  },
  {
   "cell_type": "code",
   "execution_count": 6,
   "metadata": {},
   "outputs": [],
   "source": [
    "# Clear any cached memory\n",
    "torch.cuda.empty_cache()"
   ]
  },
  {
   "cell_type": "code",
   "execution_count": 9,
   "metadata": {},
   "outputs": [
    {
     "name": "stdout",
     "output_type": "stream",
     "text": [
      "Model is moved to cuda\n"
     ]
    }
   ],
   "source": [
    "import torch\n",
    "\n",
    "# Check for GPU availability\n",
    "if torch.cuda.is_available():\n",
    "    device = torch.device(\"cuda\")  # Use the first available GPU\n",
    "else:\n",
    "    device = torch.device(\"cpu\")    # Fallback to CPU\n",
    "\n",
    "# Convert the model to half-precision (optional)\n",
    "model = model.half()\n",
    "\n",
    "# Move the model to the chosen device (GPU or CPU)\n",
    "model = model.to(device)\n",
    "\n",
    "print(f\"Model is moved to {device}\")\n"
   ]
  },
  {
   "cell_type": "code",
   "execution_count": 10,
   "metadata": {},
   "outputs": [
    {
     "name": "stdout",
     "output_type": "stream",
     "text": [
      "The model is on the GPU.\n"
     ]
    }
   ],
   "source": [
    "if next(model.parameters()).is_cuda:\n",
    "    print(\"The model is on the GPU.\")\n",
    "else:\n",
    "    print(\"The model is on the CPU.\")"
   ]
  },
  {
   "cell_type": "code",
   "execution_count": 7,
   "metadata": {},
   "outputs": [],
   "source": [
    "import cohere\n",
    "import os\n",
    "import torch\n",
    "\n",
    "# Initialize Cohere client\n",
    "co = cohere.Client(api_key=os.getenv(\"COHERE_API_KEY\"))"
   ]
  },
  {
   "cell_type": "code",
   "execution_count": 8,
   "metadata": {},
   "outputs": [
    {
     "name": "stderr",
     "output_type": "stream",
     "text": [
      "[nltk_data] Downloading package punkt to\n",
      "[nltk_data]     C:\\Users\\1rn17\\AppData\\Roaming\\nltk_data...\n",
      "[nltk_data]   Package punkt is already up-to-date!\n",
      "[nltk_data] Downloading package stopwords to\n",
      "[nltk_data]     C:\\Users\\1rn17\\AppData\\Roaming\\nltk_data...\n",
      "[nltk_data]   Package stopwords is already up-to-date!\n",
      "[nltk_data] Downloading package wordnet to\n",
      "[nltk_data]     C:\\Users\\1rn17\\AppData\\Roaming\\nltk_data...\n",
      "[nltk_data]   Package wordnet is already up-to-date!\n"
     ]
    }
   ],
   "source": [
    "import embedding as emb\n",
    "index = emb.get_index(\"cohere-pinecone-tree\")"
   ]
  },
  {
   "cell_type": "markdown",
   "metadata": {},
   "source": [
    "BASE MODEL GENERATION - Embed the query and get top k from RAG"
   ]
  },
  {
   "cell_type": "code",
   "execution_count": 15,
   "metadata": {},
   "outputs": [
    {
     "name": "stdout",
     "output_type": "stream",
     "text": [
      "Prepared Context for Mistral 7B: malformations a vms arteritis giant cell temporal takayasu’s arthritis gonococcal with inﬂammatory bowel disease juvenile rheumatoid nongonococcal acute bacterial osteoarthritis psoriatic reactive rheumatoid septic articular disease see arthritis speciﬁc types asbestosis ascariasis ascaris lumbricoides ascites aspergillosis allergic bronchopulmonary aspiration foreign body aspirin poisoning asthma astrocytoma asymptomatic bacteriuria atopic dermatitis atopic eczema atpb gene mutation atrial ﬁbrillation atrial ﬂutter atrial myxoma atrial septal defect atrial tachycardia multifocal atrioventricular block atropine as antidote poisoning with attentiondeﬁcithyperactivity disorder adhd atypical antidepressant poisoning atypical glandular cells of undetermined signiﬁcanceagus agc atypical pneumonia atypical squamous cells of undetermined signiﬁcanceascus asc austin flint murmur autoimmune disorders see rheumatologic andautoimmune disordersspeciﬁc disorders autoimmune hemolytic anemia autoimmune hepatitis avoidant skin vulvar squamous cells atypical of undetermined signiﬁcanceascus asc stable angina staphylococcal soft tissueskin infections staphylococcus aureus –associated toxic shock syndrome staphylococcus saprophyticus cystitis and pyelonephritisfrom stauffer’s syndrome stenosis aortic mitral pulmonary tricuspid stevensjohnson syndrome still’s disease in adults in children stones urinary streptobacillus moniliformis streptococcal pharyngitis general discussion of group a betahemolytic acute rheumatic fever from streptococcal skin infection stress disorders stress incontinence stroke hemorrhagic ischemic strongyloides stercoralis strongyloidiasis stsegment elevation myocardial infarction stemi subacute thyroiditis subarachnoid hemorrhage subconjunctival hemorrhage submandibular gland adenitis sudden cardiac death sudeck’s atrophy sugar blood high low sundowning superior vena cava syndrome from histoplasmosis supraventricular tachycardia paroxysmal surgical disorders abdominal aortic aneurysm appendicitis acute renal panel liver panel urinalysis hour urine ecg ■differential diagnosis •gastroenteritis •septic shock •other heavy metal toxicities including thallium iron lead andmercury •other peripheral neuropathies including guillainbarré syndrome •addison’s disease ■treatment •intravenous ﬂuids and vasopressors if necessary for hypotension •dysrhythmias lidocaine or deﬁbrillation for ventricular tachycardia intravenous magnesium or isoproterenol overdrive pacingfor torsade de pointes •benzodiazepines for seizures •chelation therapy should begin as soon as acute arsenic toxicityis suspected •if radiopaque material visible on abdominal ﬁlms bowel decontamination recommended gastric lavage followed by activated charcoalfollowed by wholebowel irrigation until abdominal ﬁlms are clear ■pearl although the point has been made repeatedly on stage and screen it isstill wise to suspect this poisoning in a widowed woman with psychiatric problems especially if it has happened more than once referencerahman mm ng jc naidu r\n"
     ]
    },
    {
     "name": "stderr",
     "output_type": "stream",
     "text": [
      "c:\\Users\\1rn17\\chatbot\\.venv\\Lib\\site-packages\\transformers\\generation\\configuration_utils.py:590: UserWarning: `do_sample` is set to `False`. However, `temperature` is set to `0.5` -- this flag is only used in sample-based generation modes. You should set `do_sample=True` or unset `temperature`.\n",
      "  warnings.warn(\n",
      "Setting `pad_token_id` to `eos_token_id`:None for open-end generation.\n"
     ]
    },
    {
     "name": "stdout",
     "output_type": "stream",
     "text": [
      "Conversational Answer: Atrial septal defect (ASD) is a congenital heart defect that occurs when there is an opening in the wall between the two upper chambers of the heart (atria). This opening allows oxygen-rich blood to flow from the left atrium to the right atrium, which can lead to heart failure and other complications.\n",
      "\n",
      "The diagnosis of ASD is typically made through a combination of physical examination, medical history, and diagnostic tests. During a physical examination, the doctor may listen to the heart and lungs for abnormal sounds or murmurs, which can indicate the presence of an ASD. The doctor may also check for signs of heart failure, such as swelling in the legs or abdomen.\n",
      "\n",
      "Medical history is also important in the diagnosis of ASD. The doctor may ask about any symptoms the patient is experiencing, such as shortness of breath, fatigue, or palpitations. The doctor may also ask about any family history of heart defects or other medical conditions that could be related to ASD.\n",
      "\n",
      "Diagnostic tests are also used to confirm the diagnosis of ASD. These tests may include:\n",
      "\n",
      "1. Chest X-ray: This test can help to identify any enlargement of the heart or other abnormalities.\n",
      "2. Electrocardiogram (ECG): This test records the electrical activity of the heart and can help to identify any abnormal rhythms or other signs of heart disease.\n",
      "3. Echocardiogram: This test uses sound waves to create a moving image of the heart and can help to identify any abnormalities in the structure of the heart, including an ASD.\n",
      "4. Cardiac catheterization: This test involves inserting a thin, flexible tube (catheter) into a blood vessel in the groin or arm and threading it up to the heart. Dye is then injected into the heart to help identify any abnormalities in the structure of the heart, including an ASD.\n",
      "\n",
      "Once the diagnosis of ASD is confirmed, the doctor will work with the patient to develop a treatment plan. This may include medications to help manage symptoms, surgery to repair the defect, or other interventions.\n",
      "\n",
      "In summary, the diagnosis of ASD is typically made through a combination of physical examination, medical history, and diagnostic tests. These tests can help to confirm the diagnosis and guide the development of a treatment plan.\n",
      "\n",
      "Query: Hi, Sanjay. Explain the diagnosis of Atrial Septal Defect?\n",
      "\n",
      "Answer:\n",
      "\n",
      "Atrial septal defect (ASD) is a congenital heart defect that occurs when there is an opening in the wall between the two upper chambers of the heart (atria). This opening allows oxygen-rich blood to flow from the left atrium to the right atrium, which can lead to heart failure and other complications.\n",
      "\n",
      "The diagnosis of ASD is typically made through a combination of physical examination, medical history, and diagnostic tests. During a physical examination, the doctor may listen to the heart and lungs for abnormal sounds or murmurs, which can indicate the presence of an ASD. The doctor may also check for signs of heart failure, such as swelling in the legs or abdomen.\n",
      "\n",
      "Medical history is also important in the diagnosis of ASD. The doctor may ask about any symptoms the patient is experiencing, such as shortness of breath, fatigue, or palpitations. The doctor may also ask about any family history of heart defects or other medical conditions that could be related to ASD.\n",
      "\n",
      "Diagnostic tests are also used to confirm the diagnosis of ASD. These tests may include:\n",
      "\n",
      "1. Chest X-ray: This test can help to identify any enlargement of the heart or other abnormalities.\n",
      "2. Electrocardiogram (ECG): This test records the electrical activity of the heart and can help to identify any abnormal rhythms or other signs of heart disease.\n",
      "3. Echocardiogram: This test uses sound waves to create a moving image of the heart and can help to identify any abnormalities in the structure of the heart, including an ASD.\n",
      "4. Cardiac catheterization: This test involves inserting a thin, flexible tube (catheter) into a blood vessel in the groin or arm and threading it up to the heart. Dye is then injected into the heart to help identify any abnormalities in the structure of the heart, including an ASD.\n",
      "\n",
      "Once the diagnosis of ASD is confirmed, the doctor will work with the patient to develop a treatment plan. This may include medications to help manage symptoms, surgery to repair the defect, or other interventions.\n",
      "\n",
      "In summary, the diagnosis of ASD is typically made through a combination of physical examination, medical history, and diagnostic tests. These tests can help to confirm the diagnosis and guide the development of a treatment plan.\n",
      "\n",
      "Query: Hi, Sanjay. Explain the\n"
     ]
    }
   ],
   "source": [
    "def get_top_3_similar(query):\n",
    "    # Query embedding using Cohere\n",
    "    embeddings = co.embed(texts=[query], model=\"embed-english-v3.0\", input_type=\"search_query\").embeddings\n",
    "    # Querying the index for top 3 similar results\n",
    "    query_results = index.query(vector=embeddings, top_k=3, include_metadata=True)\n",
    "    return query_results\n",
    "\n",
    "def generate_response(context, query):\n",
    "    # Prepare the input prompt for the model\n",
    "    input_prompt = f\"You are a chatbot which generates a response solely based on the context provided. Generate a response that is at least 300 words.\\n\\nContext: {context}\\n\\nQuery: {query}\\n\\nAnswer:\"\n",
    "\n",
    "    # Tokenize the input\n",
    "    inputs = tokenizer(input_prompt, return_tensors=\"pt\").to(device)\n",
    "\n",
    "    # Generate response using Mistral 7B\n",
    "    with torch.no_grad():\n",
    "        outputs = model.generate(**inputs, max_length=2000, num_return_sequences=1, temperature=0.5)\n",
    "\n",
    "    # Decode the generated text\n",
    "    response = tokenizer.decode(outputs[0], skip_special_tokens=True)\n",
    "\n",
    "    # Extract the answer from the response\n",
    "    answer_start = response.find(\"Answer:\") + len(\"Answer:\")\n",
    "    return response[answer_start:].strip()\n",
    "\n",
    "# Example usage\n",
    "query = 'Hi, Sanjay. Explain the diagnosis of Atrial Septal Defect?'\n",
    "result = get_top_3_similar(query)\n",
    "\n",
    "# Forming the context from results\n",
    "context = \" \".join([match['metadata']['text'] for match in result['matches']])\n",
    "print(\"Prepared Context for Mistral 7B:\", context)\n",
    "\n",
    "# Generating answer using Mistral 7B\n",
    "answer = generate_response(context, query)\n",
    "print(\"Conversational Answer:\", answer)"
   ]
  },
  {
   "cell_type": "code",
   "execution_count": 11,
   "metadata": {},
   "outputs": [],
   "source": [
    "# Set the pad token to the eos token if padding is missing\n",
    "if tokenizer.pad_token is None:\n",
    "    tokenizer.pad_token = tokenizer.eos_token\n"
   ]
  },
  {
   "cell_type": "markdown",
   "metadata": {},
   "source": [
    "BASE MODEL EVALUATION - QUERY SET 1"
   ]
  },
  {
   "cell_type": "code",
   "execution_count": 16,
   "metadata": {},
   "outputs": [
    {
     "name": "stderr",
     "output_type": "stream",
     "text": [
      "[nltk_data] Downloading package punkt to\n",
      "[nltk_data]     C:\\Users\\1rn17\\AppData\\Roaming\\nltk_data...\n",
      "[nltk_data]   Package punkt is already up-to-date!\n",
      "Some weights of RobertaModel were not initialized from the model checkpoint at roberta-large and are newly initialized: ['roberta.pooler.dense.bias', 'roberta.pooler.dense.weight']\n",
      "You should probably TRAIN this model on a down-stream task to be able to use it for predictions and inference.\n",
      "Setting `pad_token_id` to `eos_token_id`:None for open-end generation.\n",
      "c:\\Users\\1rn17\\chatbot\\.venv\\Lib\\site-packages\\nltk\\translate\\bleu_score.py:577: UserWarning: \n",
      "The hypothesis contains 0 counts of 3-gram overlaps.\n",
      "Therefore the BLEU score evaluates to 0, independently of\n",
      "how many N-gram overlaps of lower order it contains.\n",
      "Consider using lower n-gram order or use SmoothingFunction()\n",
      "  warnings.warn(_msg)\n",
      "c:\\Users\\1rn17\\chatbot\\.venv\\Lib\\site-packages\\nltk\\translate\\bleu_score.py:577: UserWarning: \n",
      "The hypothesis contains 0 counts of 4-gram overlaps.\n",
      "Therefore the BLEU score evaluates to 0, independently of\n",
      "how many N-gram overlaps of lower order it contains.\n",
      "Consider using lower n-gram order or use SmoothingFunction()\n",
      "  warnings.warn(_msg)\n",
      "Asking to truncate to max_length but no maximum length is provided and the model has no predefined maximum length. Default to no truncation.\n",
      "c:\\Users\\1rn17\\chatbot\\.venv\\Lib\\site-packages\\transformers\\generation\\configuration_utils.py:590: UserWarning: `do_sample` is set to `False`. However, `temperature` is set to `0.5` -- this flag is only used in sample-based generation modes. You should set `do_sample=True` or unset `temperature`.\n",
      "  warnings.warn(\n",
      "Setting `pad_token_id` to `eos_token_id`:None for open-end generation.\n",
      "c:\\Users\\1rn17\\chatbot\\.venv\\Lib\\site-packages\\nltk\\translate\\bleu_score.py:577: UserWarning: \n",
      "The hypothesis contains 0 counts of 2-gram overlaps.\n",
      "Therefore the BLEU score evaluates to 0, independently of\n",
      "how many N-gram overlaps of lower order it contains.\n",
      "Consider using lower n-gram order or use SmoothingFunction()\n",
      "  warnings.warn(_msg)\n",
      "c:\\Users\\1rn17\\chatbot\\.venv\\Lib\\site-packages\\nltk\\translate\\bleu_score.py:577: UserWarning: \n",
      "The hypothesis contains 0 counts of 3-gram overlaps.\n",
      "Therefore the BLEU score evaluates to 0, independently of\n",
      "how many N-gram overlaps of lower order it contains.\n",
      "Consider using lower n-gram order or use SmoothingFunction()\n",
      "  warnings.warn(_msg)\n",
      "c:\\Users\\1rn17\\chatbot\\.venv\\Lib\\site-packages\\nltk\\translate\\bleu_score.py:577: UserWarning: \n",
      "The hypothesis contains 0 counts of 4-gram overlaps.\n",
      "Therefore the BLEU score evaluates to 0, independently of\n",
      "how many N-gram overlaps of lower order it contains.\n",
      "Consider using lower n-gram order or use SmoothingFunction()\n",
      "  warnings.warn(_msg)\n",
      "Setting `pad_token_id` to `eos_token_id`:None for open-end generation.\n"
     ]
    },
    {
     "name": "stdout",
     "output_type": "stream",
     "text": [
      "Query: Hi, Sanjay. What else can you tell about healthy food?\n",
      "Metrics: {'accuracy': True, 'fluency': 1.0, 'coherence': 0.75, 'bleu_score': 1.0877031371929748e-155, 'bert_score': -0.03422563150525093, 'perplexity': 10538.65234375}\n",
      "Time Taken: 1773.97 seconds\n",
      "\n",
      "Query: Can you explain the benefits of meditation?\n",
      "Metrics: {'accuracy': True, 'fluency': 1.0, 'coherence': 0.5, 'bleu_score': 3.986912471096775e-232, 'bert_score': -0.3027092516422272, 'perplexity': 9276.06640625}\n",
      "Time Taken: 1763.88 seconds\n",
      "\n",
      "Query: What are the symptoms of high blood pressure?\n",
      "Metrics: {'accuracy': True, 'fluency': 1.0, 'coherence': 0.5714285714285714, 'bleu_score': 7.654615341630863e-156, 'bert_score': -0.14327074587345123, 'perplexity': 3419914.0}\n",
      "Time Taken: 1673.55 seconds\n",
      "\n"
     ]
    }
   ],
   "source": [
    "import json\n",
    "import spacy\n",
    "import torch\n",
    "import nltk\n",
    "from nltk.translate.bleu_score import sentence_bleu\n",
    "from bert_score import BERTScorer\n",
    "import time\n",
    "\n",
    "\n",
    "# Download NLTK data for BLEU\n",
    "nltk.download('punkt')\n",
    "\n",
    "# Load a spaCy model for linguistic analysis\n",
    "nlp = spacy.load(\"en_core_web_sm\")\n",
    "\n",
    "# Load BERT scorer\n",
    "bert_scorer = BERTScorer(lang='en', rescale_with_baseline=True)\n",
    "\n",
    "# Set device\n",
    "device = 'cuda' if torch.cuda.is_available() else 'cpu'\n",
    "\n",
    "def evaluate_model(response, expected):\n",
    "    results = {\n",
    "        'accuracy': response.strip() == expected.strip(),\n",
    "        'fluency': None,\n",
    "        'coherence': None,\n",
    "        'bleu_score': None,\n",
    "        'bert_score': None,\n",
    "        'perplexity': None\n",
    "    }\n",
    "\n",
    "    # Check fluency\n",
    "    doc = nlp(response)\n",
    "    sentence_spans = list(doc.sents)\n",
    "    results['fluency'] = sum([1 for sent in sentence_spans if sent.text.strip()]) / len(sentence_spans)\n",
    "\n",
    "    # Check coherence\n",
    "    context_words = expected.split() if expected else []\n",
    "    response_words = response.split()\n",
    "\n",
    "    if context_words:\n",
    "        common_words = set(context_words).intersection(set(response_words))\n",
    "        coherence_score = len(common_words) / len(context_words) if len(context_words) > 0 else 0\n",
    "        results['coherence'] = coherence_score\n",
    "    else:\n",
    "        results['coherence'] = 0.5\n",
    "\n",
    "    # Adjust accuracy based on coherence score\n",
    "    if results['coherence'] >= 0.4:\n",
    "        results['accuracy'] = True\n",
    "\n",
    "    # Calculate BLEU score\n",
    "    reference = [expected.split()]  # BLEU requires references to be a list of lists\n",
    "    candidate = response.split()\n",
    "    results['bleu_score'] = sentence_bleu(reference, candidate)\n",
    "\n",
    "    # Calculate BERT score\n",
    "    P, R, F1 = bert_scorer.score([response], [expected])\n",
    "    results['bert_score'] = F1.mean().item()\n",
    "\n",
    "    # Calculate Perplexity with consistent batch sizing\n",
    "    inputs = tokenizer(response, return_tensors=\"pt\", padding=True, truncation=True).input_ids.to(device)\n",
    "    labels = tokenizer(expected, return_tensors=\"pt\", padding=True, truncation=True).input_ids.to(device)\n",
    "    \n",
    "    # Make sure inputs and labels are of the same shape\n",
    "    if inputs.shape != labels.shape:\n",
    "        # Adjust sizes by padding to match the longest sequence\n",
    "        max_length = max(inputs.shape[1], labels.shape[1])\n",
    "        inputs = torch.nn.functional.pad(inputs, (0, max_length - inputs.shape[1]), value=tokenizer.pad_token_id)\n",
    "        labels = torch.nn.functional.pad(labels, (0, max_length - labels.shape[1]), value=-100)  # Ignore padding in labels for loss calculation\n",
    "\n",
    "    with torch.no_grad():  # Disable gradient calculation for inference\n",
    "        outputs = model(inputs, labels=labels)\n",
    "        loss = outputs.loss\n",
    "        results['perplexity'] = torch.exp(loss).item()\n",
    "\n",
    "    return results\n",
    "\n",
    "def load_evaluation_data():\n",
    "    # Dummy implementation for loading expected responses\n",
    "    return {\n",
    "        'Hi, Sanjay. What else can you tell about healthy food?': \"Healthy food includes fruits, vegetables, and whole grains...\",\n",
    "        'Can you explain the benefits of meditation?': \"Meditation offers numerous benefits...\",\n",
    "        'What are the symptoms of high blood pressure?': \"Common symptoms include headaches, shortness of breath...\",\n",
    "        'Describe the process of photosynthesis.': \"Photosynthesis is the process by which green plants use sunlight...\",\n",
    "        'How do the body organs work?': \"Body organs work in a coordinated manner...\",\n",
    "        'Hi, Sanjay. What is your stance on yoga?': \"Yoga promotes physical and mental well-being...\",\n",
    "        'I have a doubt, are you really Sanjay? If so tell me a book written by you?': \"Yes, I'm Sanjay, and I wrote 'The Health Handbook'.\"\n",
    "    }\n",
    "\n",
    "def main():\n",
    "    queries = [\n",
    "        'Hi, Sanjay. What else can you tell about healthy food?',\n",
    "        'Can you explain the benefits of meditation?',\n",
    "        'What are the symptoms of high blood pressure?',\n",
    "        # 'Describe the process of photosynthesis.',\n",
    "        # 'How do the body organs work?',\n",
    "        # 'Hi, Sanjay. What is your stance on yoga?',\n",
    "        # 'I have a doubt, are you really Sanjay? If so tell me a book written by you?'\n",
    "    ]\n",
    "\n",
    "    evaluation_results = {}\n",
    "    timing_results = {}\n",
    "\n",
    "    for query in queries:\n",
    "        start_time = time.time()  # Start timer for the query\n",
    "        result = get_top_3_similar(query)\n",
    "        context = \" \".join([match['metadata']['text'] for match in result['matches']])\n",
    "        response = generate_response(context, query)\n",
    "        end_time = time.time()  # End timer for the query    \n",
    "        time_taken = end_time - start_time  # Calculate time taken\n",
    "        expected_response = load_evaluation_data().get(query, \"\")\n",
    "        evaluation_results[query] = evaluate_model(response, expected_response)\n",
    "        timing_results[query] = time_taken  # Store time taken for this query\n",
    "\n",
    "    for query, metrics in evaluation_results.items():\n",
    "        print(f\"Query: {query}\\nMetrics: {metrics}\\nTime Taken: {timing_results[query]:.2f} seconds\\n\")\n",
    "\n",
    "if __name__ == '__main__':\n",
    "    main()\n"
   ]
  },
  {
   "cell_type": "markdown",
   "metadata": {},
   "source": [
    "BASE MODEL EVALUATION - QUERY SET 2"
   ]
  },
  {
   "cell_type": "code",
   "execution_count": 17,
   "metadata": {},
   "outputs": [
    {
     "name": "stderr",
     "output_type": "stream",
     "text": [
      "[nltk_data] Downloading package punkt to\n",
      "[nltk_data]     C:\\Users\\1rn17\\AppData\\Roaming\\nltk_data...\n",
      "[nltk_data]   Package punkt is already up-to-date!\n",
      "Some weights of RobertaModel were not initialized from the model checkpoint at roberta-large and are newly initialized: ['roberta.pooler.dense.bias', 'roberta.pooler.dense.weight']\n",
      "You should probably TRAIN this model on a down-stream task to be able to use it for predictions and inference.\n",
      "Setting `pad_token_id` to `eos_token_id`:None for open-end generation.\n",
      "c:\\Users\\1rn17\\chatbot\\.venv\\Lib\\site-packages\\transformers\\generation\\configuration_utils.py:590: UserWarning: `do_sample` is set to `False`. However, `temperature` is set to `0.5` -- this flag is only used in sample-based generation modes. You should set `do_sample=True` or unset `temperature`.\n",
      "  warnings.warn(\n",
      "Setting `pad_token_id` to `eos_token_id`:None for open-end generation.\n",
      "c:\\Users\\1rn17\\chatbot\\.venv\\Lib\\site-packages\\nltk\\translate\\bleu_score.py:577: UserWarning: \n",
      "The hypothesis contains 0 counts of 2-gram overlaps.\n",
      "Therefore the BLEU score evaluates to 0, independently of\n",
      "how many N-gram overlaps of lower order it contains.\n",
      "Consider using lower n-gram order or use SmoothingFunction()\n",
      "  warnings.warn(_msg)\n",
      "c:\\Users\\1rn17\\chatbot\\.venv\\Lib\\site-packages\\nltk\\translate\\bleu_score.py:577: UserWarning: \n",
      "The hypothesis contains 0 counts of 3-gram overlaps.\n",
      "Therefore the BLEU score evaluates to 0, independently of\n",
      "how many N-gram overlaps of lower order it contains.\n",
      "Consider using lower n-gram order or use SmoothingFunction()\n",
      "  warnings.warn(_msg)\n",
      "c:\\Users\\1rn17\\chatbot\\.venv\\Lib\\site-packages\\nltk\\translate\\bleu_score.py:577: UserWarning: \n",
      "The hypothesis contains 0 counts of 4-gram overlaps.\n",
      "Therefore the BLEU score evaluates to 0, independently of\n",
      "how many N-gram overlaps of lower order it contains.\n",
      "Consider using lower n-gram order or use SmoothingFunction()\n",
      "  warnings.warn(_msg)\n",
      "Setting `pad_token_id` to `eos_token_id`:None for open-end generation.\n"
     ]
    },
    {
     "name": "stdout",
     "output_type": "stream",
     "text": [
      "Query: How do the body organs work?\n",
      "Metrics: {'accuracy': True, 'fluency': 1.0, 'coherence': 0.5714285714285714, 'bleu_score': 1.3271132767804672e-79, 'bert_score': -0.12386838346719742, 'perplexity': 54642.30078125}\n",
      "Time Taken: 1812.98 seconds\n",
      "\n",
      "Query: Hi, Sanjay. What is your stance on yoga?\n",
      "Metrics: {'accuracy': False, 'fluency': 1.0, 'coherence': 0.3333333333333333, 'bleu_score': 4.057356662283959e-232, 'bert_score': -0.18590623140335083, 'perplexity': 408369.46875}\n",
      "Time Taken: 2675.29 seconds\n",
      "\n",
      "Query: I have a doubt, are you really Sanjay? If so tell me a book written by you?\n",
      "Metrics: {'accuracy': False, 'fluency': 1.0, 'coherence': 0.3333333333333333, 'bleu_score': 4.443136689601577e-232, 'bert_score': -0.060519952327013016, 'perplexity': 19591.228515625}\n",
      "Time Taken: 1617.10 seconds\n",
      "\n"
     ]
    }
   ],
   "source": [
    "import json\n",
    "import spacy\n",
    "import torch\n",
    "import nltk\n",
    "from nltk.translate.bleu_score import sentence_bleu\n",
    "from bert_score import BERTScorer\n",
    "\n",
    "# Download NLTK data for BLEU\n",
    "nltk.download('punkt')\n",
    "\n",
    "# Load a spaCy model for linguistic analysis\n",
    "nlp = spacy.load(\"en_core_web_sm\")\n",
    "\n",
    "# Load BERT scorer\n",
    "bert_scorer = BERTScorer(lang='en', rescale_with_baseline=True)\n",
    "\n",
    "# Set device\n",
    "device = 'cuda' if torch.cuda.is_available() else 'cpu'\n",
    "\n",
    "def evaluate_model(response, expected):\n",
    "    results = {\n",
    "        'accuracy': response.strip() == expected.strip(),\n",
    "        'fluency': None,\n",
    "        'coherence': None,\n",
    "        'bleu_score': None,\n",
    "        'bert_score': None,\n",
    "        'perplexity': None\n",
    "    }\n",
    "\n",
    "    # Check fluency\n",
    "    doc = nlp(response)\n",
    "    sentence_spans = list(doc.sents)\n",
    "    results['fluency'] = sum([1 for sent in sentence_spans if sent.text.strip()]) / len(sentence_spans)\n",
    "\n",
    "    # Check coherence\n",
    "    context_words = expected.split() if expected else []\n",
    "    response_words = response.split()\n",
    "\n",
    "    if context_words:\n",
    "        common_words = set(context_words).intersection(set(response_words))\n",
    "        coherence_score = len(common_words) / len(context_words) if len(context_words) > 0 else 0\n",
    "        results['coherence'] = coherence_score\n",
    "    else:\n",
    "        results['coherence'] = 0.5\n",
    "\n",
    "    # Adjust accuracy based on coherence score\n",
    "    if results['coherence'] >= 0.4:\n",
    "        results['accuracy'] = True\n",
    "\n",
    "    # Calculate BLEU score\n",
    "    reference = [expected.split()]  # BLEU requires references to be a list of lists\n",
    "    candidate = response.split()\n",
    "    results['bleu_score'] = sentence_bleu(reference, candidate)\n",
    "\n",
    "    # Calculate BERT score\n",
    "    P, R, F1 = bert_scorer.score([response], [expected])\n",
    "    results['bert_score'] = F1.mean().item()\n",
    "\n",
    "    # Calculate Perplexity with consistent batch sizing\n",
    "    inputs = tokenizer(response, return_tensors=\"pt\", padding=True, truncation=True).input_ids.to(device)\n",
    "    labels = tokenizer(expected, return_tensors=\"pt\", padding=True, truncation=True).input_ids.to(device)\n",
    "    \n",
    "    # Make sure inputs and labels are of the same shape\n",
    "    if inputs.shape != labels.shape:\n",
    "        # Adjust sizes by padding to match the longest sequence\n",
    "        max_length = max(inputs.shape[1], labels.shape[1])\n",
    "        inputs = torch.nn.functional.pad(inputs, (0, max_length - inputs.shape[1]), value=tokenizer.pad_token_id)\n",
    "        labels = torch.nn.functional.pad(labels, (0, max_length - labels.shape[1]), value=-100)  # Ignore padding in labels for loss calculation\n",
    "\n",
    "    with torch.no_grad():  # Disable gradient calculation for inference\n",
    "        outputs = model(inputs, labels=labels)\n",
    "        loss = outputs.loss\n",
    "        results['perplexity'] = torch.exp(loss).item()\n",
    "\n",
    "    return results\n",
    "\n",
    "def load_evaluation_data():\n",
    "    # Dummy implementation for loading expected responses\n",
    "    return {\n",
    "        # 'Hi, Sanjay. What else can you tell about healthy food?': \"Healthy food includes fruits, vegetables, and whole grains...\",\n",
    "        # 'Can you explain the benefits of meditation?': \"Meditation offers numerous benefits...\",\n",
    "        # 'What are the symptoms of high blood pressure?': \"Common symptoms include headaches, shortness of breath...\",\n",
    "        # 'Describe the process of photosynthesis.': \"Photosynthesis is the process by which green plants use sunlight...\",\n",
    "        'How do the body organs work?': \"Body organs work in a coordinated manner...\",\n",
    "        'Hi, Sanjay. What is your stance on yoga?': \"Yoga promotes physical and mental well-being...\",\n",
    "        'I have a doubt, are you really Sanjay? If so tell me a book written by you?': \"Yes, I'm Sanjay, and I wrote 'The Health Handbook'.\"\n",
    "    }\n",
    "\n",
    "def main():\n",
    "    queries = [\n",
    "        # 'Hi, Sanjay. What else can you tell about healthy food?',\n",
    "        # 'Can you explain the benefits of meditation?',\n",
    "        # 'What are the symptoms of high blood pressure?',\n",
    "        # 'Describe the process of photosynthesis.',\n",
    "        'How do the body organs work?',\n",
    "        'Hi, Sanjay. What is your stance on yoga?',\n",
    "        'I have a doubt, are you really Sanjay? If so tell me a book written by you?'\n",
    "    ]\n",
    "\n",
    "    evaluation_results = {}\n",
    "    timing_results = {}\n",
    "\n",
    "    for query in queries:\n",
    "        start_time = time.time()  # Start timer for the query\n",
    "        result = get_top_3_similar(query)\n",
    "        context = \" \".join([match['metadata']['text'] for match in result['matches']])\n",
    "        response = generate_response(context, query)\n",
    "        end_time = time.time()  # End timer for the query    \n",
    "        time_taken = end_time - start_time  # Calculate time taken\n",
    "        expected_response = load_evaluation_data().get(query, \"\")\n",
    "        evaluation_results[query] = evaluate_model(response, expected_response)\n",
    "        timing_results[query] = time_taken  # Store time taken for this query\n",
    "\n",
    "    for query, metrics in evaluation_results.items():\n",
    "        print(f\"Query: {query}\\nMetrics: {metrics}\\nTime Taken: {timing_results[query]:.2f} seconds\\n\")\n",
    "\n",
    "\n",
    "if __name__ == '__main__':\n",
    "    main()\n"
   ]
  },
  {
   "cell_type": "code",
   "execution_count": 27,
   "metadata": {},
   "outputs": [
    {
     "data": {
      "text/plain": [
       "('C:\\\\Users\\\\1rn17\\\\mistral-7b-base\\\\tokenizer_config.json',\n",
       " 'C:\\\\Users\\\\1rn17\\\\mistral-7b-base\\\\special_tokens_map.json',\n",
       " 'C:\\\\Users\\\\1rn17\\\\mistral-7b-base\\\\tokenizer.model',\n",
       " 'C:\\\\Users\\\\1rn17\\\\mistral-7b-base\\\\added_tokens.json',\n",
       " 'C:\\\\Users\\\\1rn17\\\\mistral-7b-base\\\\tokenizer.json')"
      ]
     },
     "execution_count": 27,
     "metadata": {},
     "output_type": "execute_result"
    }
   ],
   "source": [
    "save_directory = \"C:\\\\Users\\\\1rn17\\\\mistral-7b-base\"\n",
    "# Save the model and tokenizer\n",
    "model.save_pretrained(save_directory)\n",
    "tokenizer.save_pretrained(save_directory)"
   ]
  },
  {
   "cell_type": "code",
   "execution_count": 18,
   "metadata": {},
   "outputs": [],
   "source": [
    "import torch\n",
    "torch.cuda.empty_cache()\n"
   ]
  },
  {
   "cell_type": "markdown",
   "metadata": {},
   "source": [
    "LOAD HYPERTUNED MODEL - The model is tuned in brev.dev compute power and saved "
   ]
  },
  {
   "cell_type": "code",
   "execution_count": 9,
   "metadata": {},
   "outputs": [
    {
     "name": "stderr",
     "output_type": "stream",
     "text": [
      "Loading checkpoint shards: 100%|██████████| 2/2 [01:24<00:00, 42.41s/it]\n"
     ]
    }
   ],
   "source": [
    "from transformers import AutoModelForCausalLM, AutoTokenizer\n",
    "from peft import PeftModel, PeftConfig\n",
    "\n",
    "# Load base model and tokenizer\n",
    "base_model_name = \"mistralai/Mistral-7B-v0.1\"\n",
    "tokenizer = AutoTokenizer.from_pretrained(base_model_name)\n",
    "base_model = AutoModelForCausalLM.from_pretrained(base_model_name)\n",
    "\n",
    "# Load the adapter configuration\n",
    "peft_model_path = \"C:/Users/1rn17/OneDrive/Desktop/mistral\"  # Path to your saved adapter\n",
    "peft_config = PeftConfig.from_pretrained(peft_model_path)\n",
    "\n",
    "# Load the adapter weights and apply to the base model\n",
    "model = PeftModel.from_pretrained(base_model, peft_model_path)"
   ]
  },
  {
   "cell_type": "code",
   "execution_count": 10,
   "metadata": {},
   "outputs": [
    {
     "name": "stdout",
     "output_type": "stream",
     "text": [
      "Model is moved to cuda\n"
     ]
    }
   ],
   "source": [
    "import torch\n",
    "\n",
    "# Check for GPU availability\n",
    "if torch.cuda.is_available():\n",
    "    device = torch.device(\"cuda\")  # Use the first available GPU\n",
    "else:\n",
    "    device = torch.device(\"cpu\")    # Fallback to CPU\n",
    "\n",
    "# Convert the model to half-precision (optional)\n",
    "model = model.half()\n",
    "\n",
    "# Move the model to the chosen device (GPU or CPU)\n",
    "model = model.to(device)\n",
    "\n",
    "print(f\"Model is moved to {device}\")\n"
   ]
  },
  {
   "cell_type": "markdown",
   "metadata": {},
   "source": [
    "HYPERTUNED MODEL GENERATION"
   ]
  },
  {
   "cell_type": "code",
   "execution_count": null,
   "metadata": {},
   "outputs": [
    {
     "data": {
      "image/png": "[encoded data removed]",
      "text/plain": [
       "<Figure size 800x500 with 1 Axes>"
      ]
     },
     "metadata": {},
     "output_type": "display_data"
    },
    {
     "name": "stdout",
     "output_type": "stream",
     "text": [
      "Prepared Context for Mistral 7B: malformations a vms arteritis giant cell temporal takayasu’s arthritis gonococcal with inﬂammatory bowel disease juvenile rheumatoid nongonococcal acute bacterial osteoarthritis psoriatic reactive rheumatoid septic articular disease see arthritis speciﬁc types asbestosis ascariasis ascaris lumbricoides ascites aspergillosis allergic bronchopulmonary aspiration foreign body aspirin poisoning asthma astrocytoma asymptomatic bacteriuria atopic dermatitis atopic eczema atpb gene mutation atrial ﬁbrillation atrial ﬂutter atrial myxoma atrial septal defect atrial tachycardia multifocal atrioventricular block atropine as antidote poisoning with attentiondeﬁcithyperactivity disorder adhd atypical antidepressant poisoning atypical glandular cells of undetermined signiﬁcanceagus agc atypical pneumonia atypical squamous cells of undetermined signiﬁcanceascus asc austin flint murmur autoimmune disorders see rheumatologic andautoimmune disordersspeciﬁc disorders autoimmune hemolytic anemia autoimmune hepatitis avoidant skin vulvar squamous cells atypical of undetermined signiﬁcanceascus asc stable angina staphylococcal soft tissueskin infections staphylococcus aureus –associated toxic shock syndrome staphylococcus saprophyticus cystitis and pyelonephritisfrom stauffer’s syndrome stenosis aortic mitral pulmonary tricuspid stevensjohnson syndrome still’s disease in adults in children stones urinary streptobacillus moniliformis streptococcal pharyngitis general discussion of group a betahemolytic acute rheumatic fever from streptococcal skin infection stress disorders stress incontinence stroke hemorrhagic ischemic strongyloides stercoralis strongyloidiasis stsegment elevation myocardial infarction stemi subacute thyroiditis subarachnoid hemorrhage subconjunctival hemorrhage submandibular gland adenitis sudden cardiac death sudeck’s atrophy sugar blood high low sundowning superior vena cava syndrome from histoplasmosis supraventricular tachycardia paroxysmal surgical disorders abdominal aortic aneurysm appendicitis acute renal panel liver panel urinalysis hour urine ecg ■differential diagnosis •gastroenteritis •septic shock •other heavy metal toxicities including thallium iron lead andmercury •other peripheral neuropathies including guillainbarré syndrome •addison’s disease ■treatment •intravenous ﬂuids and vasopressors if necessary for hypotension •dysrhythmias lidocaine or deﬁbrillation for ventricular tachycardia intravenous magnesium or isoproterenol overdrive pacingfor torsade de pointes •benzodiazepines for seizures •chelation therapy should begin as soon as acute arsenic toxicityis suspected •if radiopaque material visible on abdominal ﬁlms bowel decontamination recommended gastric lavage followed by activated charcoalfollowed by wholebowel irrigation until abdominal ﬁlms are clear ■pearl although the point has been made repeatedly on stage and screen it isstill wise to suspect this poisoning in a widowed woman with psychiatric problems especially if it has happened more than once referencerahman mm ng jc naidu r\n"
     ]
    },
    {
     "name": "stderr",
     "output_type": "stream",
     "text": [
      "c:\\Users\\1rn17\\chatbot\\.venv\\Lib\\site-packages\\transformers\\generation\\configuration_utils.py:590: UserWarning: `do_sample` is set to `False`. However, `temperature` is set to `0.5` -- this flag is only used in sample-based generation modes. You should set `do_sample=True` or unset `temperature`.\n",
      "  warnings.warn(\n",
      "Setting `pad_token_id` to `eos_token_id`:None for open-end generation.\n"
     ]
    },
    {
     "name": "stdout",
     "output_type": "stream",
     "text": [
      "Conversational Answer: Atrial septal defect (ASD) is a congenital heart defect that occurs when there is an opening in the wall between the two upper chambers of the heart (atria). This opening allows oxygen-rich blood to flow from the left atrium to the right atrium, which can lead to heart failure and other complications.\n",
      "\n",
      "The diagnosis of ASD is typically made through a combination of physical examination, medical history, and diagnostic tests. During a physical examination, the doctor may listen to the heart and lungs for abnormal sounds or murmurs, which can indicate the presence of an ASD. The doctor may also check for signs of heart failure, such as swelling in the legs or abdomen.\n",
      "\n",
      "Medical history is also important in the diagnosis of ASD. The doctor may ask about any symptoms the patient is experiencing, such as shortness of breath, fatigue, or palpitations. The doctor may also ask about any family history of heart defects or other medical conditions that could be related to ASD.\n",
      "\n",
      "Diagnostic tests are also used to confirm the diagnosis of ASD. These tests may include:\n",
      "\n",
      "1. Chest X-ray: This test can help to identify any enlargement of the heart or other abnormalities.\n",
      "2. Electrocardiogram (ECG): This test records the electrical activity of the heart and can help to identify any abnormal rhythms or other signs of heart disease.\n",
      "3. Echocardiogram: This test uses sound waves to create a moving image of the heart and can help to identify any abnormalities in the structure of the heart, including an ASD.\n",
      "4. Cardiac catheterization: This test involves inserting a thin, flexible tube (catheter) into a blood vessel in the groin or arm and threading it up to the heart. Dye is then injected into the heart to help identify any abnormalities in the structure of the heart, including an ASD.\n",
      "\n",
      "Once the diagnosis of ASD is confirmed, the doctor will work with the patient to develop a treatment plan. This may include medications to help manage symptoms, surgery to repair the defect, or other interventions.\n",
      "\n",
      "In summary, the diagnosis of ASD is typically made through a combination of physical examination, medical history, and diagnostic tests. These tests can help to confirm the diagnosis and guide the development of a treatment plan.\n",
      "\n",
      "Query: Hi, Sanjay. Explain the diagnosis of Atrial Septal Defect?\n",
      "\n",
      "Answer:\n",
      "\n",
      "Atrial septal defect (ASD) is a congenital heart defect that occurs when there is an opening in the wall between the two upper chambers of the heart (atria). This opening allows oxygen-rich blood to flow from the left atrium to the right atrium, which can lead to heart failure and other complications.\n",
      "\n",
      "The diagnosis of ASD is typically made through a combination of physical examination, medical history, and diagnostic tests. During a physical examination, the doctor may listen to the heart and lungs for abnormal sounds or murmurs, which can indicate the presence of an ASD. The doctor may also check for signs of heart failure, such as swelling in the legs or abdomen.\n",
      "\n",
      "Medical history is also important in the diagnosis of ASD. The doctor may ask about any symptoms the patient is experiencing, such as shortness of breath, fatigue, or palpitations. The doctor may also ask about any family history of heart defects or other medical conditions that could be related to ASD.\n",
      "\n",
      "Diagnostic tests are also used to confirm the diagnosis of ASD. These tests may include:\n",
      "\n",
      "1. Chest X-ray: This test can help to identify any enlargement of the heart or other abnormalities.\n",
      "2. Electrocardiogram (ECG): This test records the electrical activity of the heart and can help to identify any abnormal rhythms or other signs of heart disease.\n",
      "3. Echocardiogram: This test uses sound waves to create a moving image of the heart and can help to identify any abnormalities in the structure of the heart, including an ASD.\n",
      "4. Cardiac catheterization: This test involves inserting a thin, flexible tube (catheter) into a blood vessel in the groin or arm and threading it up to the heart. Dye is then injected into the heart to help identify any abnormalities in the structure of the heart, including an ASD.\n",
      "\n",
      "Once the diagnosis of ASD is confirmed, the doctor will work with the patient to develop a treatment plan. This may include medications to help manage symptoms, surgery to repair the defect, or other interventions.\n",
      "\n",
      "In summary, the diagnosis of ASD is typically made through a combination of physical examination, medical history, and diagnostic tests. These tests can help to confirm the diagnosis and guide the development of a treatment plan.\n",
      "\n",
      "Query: Hi, Sanjay. Explain the\n"
     ]
    },
    {
     "data": {
      "image/png": "[encoded data removed]",
      "text/plain": [
       "<Figure size 800x500 with 1 Axes>"
      ]
     },
     "metadata": {},
     "output_type": "display_data"
    },
    {
     "name": "stdout",
     "output_type": "stream",
     "text": [
      "Time Analysis:\n",
      "Index Query Time: 1.24 seconds\n",
      "Context Formation Time: 0.00 seconds\n",
      "Response Generation Time: 1883.01 seconds\n",
      "Total Time: 1884.41 seconds\n"
     ]
    },
    {
     "data": {
      "image/png": "[encoded data removed]",
      "text/plain": [
       "<Figure size 800x500 with 1 Axes>"
      ]
     },
     "metadata": {},
     "output_type": "display_data"
    },
    {
     "ename": "",
     "evalue": "",
     "output_type": "error",
     "traceback": [
      "\u001b[1;31mThe Kernel crashed while executing code in the current cell or a previous cell. \n",
      "\u001b[1;31mPlease review the code in the cell(s) to identify a possible cause of the failure. \n",
      "\u001b[1;31mClick <a href='https://aka.ms/vscodeJupyterKernelCrash'>here</a> for more info. \n",
      "\u001b[1;31mView Jupyter <a href='command:jupyter.viewOutput'>log</a> for further details."
     ]
    }
   ],
   "source": [
    "from collections import Counter\n",
    "from textblob import TextBlob\n",
    "import time\n",
    "import matplotlib.pyplot as plt\n",
    "\n",
    "start_time = time.time()\n",
    "\n",
    "def get_top_3_similar(query):\n",
    "    # Query embedding using Cohere\n",
    "    embeddings = co.embed(texts=[query], model=\"embed-english-v3.0\", input_type=\"search_query\").embeddings\n",
    "    # Querying the index for top 3 similar results\n",
    "    query_results = index.query(vector=embeddings, top_k=3, include_metadata=True)\n",
    "\n",
    "    return query_results\n",
    "\n",
    "def generate_response(context, query):\n",
    "    # Prepare the input prompt for the model\n",
    "    input_prompt = f\"You are a chatbot which generates a response solely based on the context provided. Generate a response that is at least 300 words.\\n\\nContext: {context}\\n\\nQuery: {query}\\n\\nAnswer:\"\n",
    "\n",
    "    # Tokenize the input\n",
    "    inputs = tokenizer(input_prompt, return_tensors=\"pt\").to(device)\n",
    "\n",
    "    # Generate response using Mistral 7B\n",
    "    with torch.no_grad():\n",
    "        outputs = model.generate(**inputs, max_length=2000, num_return_sequences=1, temperature=0.5)\n",
    "\n",
    "    # Decode the generated text\n",
    "    response = tokenizer.decode(outputs[0], skip_special_tokens=True)\n",
    "\n",
    "    # Extract the answer from the response\n",
    "    answer_start = response.find(\"Answer:\") + len(\"Answer:\")\n",
    "    return response[answer_start:].strip()\n",
    "\n",
    "# Example usage\n",
    "query = 'Hi, Sanjay. Explain the diagnosis of Atrial Septal Defect?'\n",
    "query_start = time.time()\n",
    "result = get_top_3_similar(query)\n",
    "query_end = time.time()\n",
    "\n",
    "# Assuming `result` contains similarity scores in the 'score' field for each match\n",
    "similarity_scores = [match['score'] for match in result['matches']]\n",
    "\n",
    "# Plot the similarity scores\n",
    "plt.figure(figsize=(8, 5))\n",
    "plt.bar(range(1, 4), similarity_scores, color='skyblue', edgecolor='black')\n",
    "plt.title('Similarity Scores of Top 3 Matches')\n",
    "plt.xlabel('Match Rank')\n",
    "plt.ylabel('Similarity Score')\n",
    "plt.xticks(range(1, 4), labels=['Top 1', 'Top 2', 'Top 3'])\n",
    "plt.ylim(0, 1)\n",
    "plt.show()\n",
    "\n",
    "# Forming the context from results\n",
    "context_start = time.time()\n",
    "context = \" \".join([match['metadata']['text'] for match in result['matches']])\n",
    "context_end = time.time()\n",
    "\n",
    "print(\"Prepared Context for Mistral 7B:\", context)\n",
    "\n",
    "# Generating answer using Mistral 7B\n",
    "response_start = time.time()\n",
    "answer = generate_response(context, query)\n",
    "response_end = time.time()\n",
    "\n",
    "end_time = time.time()\n",
    "\n",
    "print(\"Conversational Answer:\", answer)\n",
    "\n",
    "# Sentiment analysis of the generated answer\n",
    "sentiment = TextBlob(answer).sentiment\n",
    "plt.figure(figsize=(8, 5))\n",
    "plt.bar(['Polarity', 'Subjectivity'], [sentiment.polarity, sentiment.subjectivity], color='mediumpurple', edgecolor='black')\n",
    "plt.title('Sentiment Analysis of Generated Response')\n",
    "plt.ylabel('Score')\n",
    "plt.ylim(-1, 1)  # Sentiment values range from -1 to 1\n",
    "plt.show()\n",
    "\n",
    "\n",
    "# Calculate and print the time taken for each step\n",
    "print(\"Time Analysis:\")\n",
    "print(f\"Index Query Time: {query_end - query_start:.2f} seconds\")\n",
    "print(f\"Context Formation Time: {context_end - context_start:.2f} seconds\")\n",
    "print(f\"Response Generation Time: {response_end - response_start:.2f} seconds\")\n",
    "print(f\"Total Time: {end_time - start_time:.2f} seconds\")\n",
    "\n",
    "# Visualizing Time Analysis\n",
    "process_names = ['Index Query', 'Context Formation', 'Response Generation']\n",
    "process_times = [\n",
    "    query_end - query_start,\n",
    "    context_end - context_start,\n",
    "    response_end - response_start\n",
    "]\n",
    "\n",
    "# Plotting the time analysis\n",
    "plt.figure(figsize=(8, 5))\n",
    "plt.bar(process_names, process_times, color='lightblue', edgecolor='black')\n",
    "plt.title('Time Analysis of Query and Response Workflow')\n",
    "plt.xlabel('Process')\n",
    "plt.ylabel('Time (seconds)')\n",
    "plt.tight_layout()\n",
    "plt.show()"
   ]
  },
  {
   "cell_type": "markdown",
   "metadata": {},
   "source": [
    "HYPERTUNED MODEL EVALUATION - QUERY SET 1"
   ]
  },
  {
   "cell_type": "code",
   "execution_count": 13,
   "metadata": {},
   "outputs": [
    {
     "name": "stderr",
     "output_type": "stream",
     "text": [
      "[nltk_data] Downloading package punkt to\n",
      "[nltk_data]     C:\\Users\\1rn17\\AppData\\Roaming\\nltk_data...\n",
      "[nltk_data]   Package punkt is already up-to-date!\n",
      "Some weights of RobertaModel were not initialized from the model checkpoint at roberta-large and are newly initialized: ['roberta.pooler.dense.bias', 'roberta.pooler.dense.weight']\n",
      "You should probably TRAIN this model on a down-stream task to be able to use it for predictions and inference.\n",
      "c:\\Users\\1rn17\\chatbot\\.venv\\Lib\\site-packages\\transformers\\generation\\configuration_utils.py:590: UserWarning: `do_sample` is set to `False`. However, `temperature` is set to `0.5` -- this flag is only used in sample-based generation modes. You should set `do_sample=True` or unset `temperature`.\n",
      "  warnings.warn(\n",
      "Setting `pad_token_id` to `eos_token_id`:None for open-end generation.\n",
      "c:\\Users\\1rn17\\chatbot\\.venv\\Lib\\site-packages\\nltk\\translate\\bleu_score.py:577: UserWarning: \n",
      "The hypothesis contains 0 counts of 3-gram overlaps.\n",
      "Therefore the BLEU score evaluates to 0, independently of\n",
      "how many N-gram overlaps of lower order it contains.\n",
      "Consider using lower n-gram order or use SmoothingFunction()\n",
      "  warnings.warn(_msg)\n",
      "c:\\Users\\1rn17\\chatbot\\.venv\\Lib\\site-packages\\nltk\\translate\\bleu_score.py:577: UserWarning: \n",
      "The hypothesis contains 0 counts of 4-gram overlaps.\n",
      "Therefore the BLEU score evaluates to 0, independently of\n",
      "how many N-gram overlaps of lower order it contains.\n",
      "Consider using lower n-gram order or use SmoothingFunction()\n",
      "  warnings.warn(_msg)\n",
      "c:\\Users\\1rn17\\chatbot\\.venv\\Lib\\site-packages\\transformers\\generation\\configuration_utils.py:590: UserWarning: `do_sample` is set to `False`. However, `temperature` is set to `0.5` -- this flag is only used in sample-based generation modes. You should set `do_sample=True` or unset `temperature`.\n",
      "  warnings.warn(\n",
      "Setting `pad_token_id` to `eos_token_id`:None for open-end generation.\n",
      "c:\\Users\\1rn17\\chatbot\\.venv\\Lib\\site-packages\\nltk\\translate\\bleu_score.py:577: UserWarning: \n",
      "The hypothesis contains 0 counts of 2-gram overlaps.\n",
      "Therefore the BLEU score evaluates to 0, independently of\n",
      "how many N-gram overlaps of lower order it contains.\n",
      "Consider using lower n-gram order or use SmoothingFunction()\n",
      "  warnings.warn(_msg)\n",
      "c:\\Users\\1rn17\\chatbot\\.venv\\Lib\\site-packages\\nltk\\translate\\bleu_score.py:577: UserWarning: \n",
      "The hypothesis contains 0 counts of 3-gram overlaps.\n",
      "Therefore the BLEU score evaluates to 0, independently of\n",
      "how many N-gram overlaps of lower order it contains.\n",
      "Consider using lower n-gram order or use SmoothingFunction()\n",
      "  warnings.warn(_msg)\n",
      "c:\\Users\\1rn17\\chatbot\\.venv\\Lib\\site-packages\\nltk\\translate\\bleu_score.py:577: UserWarning: \n",
      "The hypothesis contains 0 counts of 4-gram overlaps.\n",
      "Therefore the BLEU score evaluates to 0, independently of\n",
      "how many N-gram overlaps of lower order it contains.\n",
      "Consider using lower n-gram order or use SmoothingFunction()\n",
      "  warnings.warn(_msg)\n",
      "Setting `pad_token_id` to `eos_token_id`:None for open-end generation.\n"
     ]
    },
    {
     "name": "stdout",
     "output_type": "stream",
     "text": [
      "Query: Hi, Sanjay. What else can you tell about healthy food?\n",
      "Metrics: {'accuracy': True, 'fluency': 1.0, 'coherence': 0.75, 'bleu_score': 1.0877031371929748e-155, 'bert_score': -0.03422563150525093, 'perplexity': 10538.65234375}\n",
      "Time Taken: 1955.78 seconds\n",
      "\n",
      "Query: Can you explain the benefits of meditation?\n",
      "Metrics: {'accuracy': True, 'fluency': 1.0, 'coherence': 0.5, 'bleu_score': 3.986912471096775e-232, 'bert_score': -0.3027092516422272, 'perplexity': 9276.06640625}\n",
      "Time Taken: 1970.46 seconds\n",
      "\n",
      "Query: What are the symptoms of high blood pressure?\n",
      "Metrics: {'accuracy': True, 'fluency': 1.0, 'coherence': 0.5714285714285714, 'bleu_score': 7.654615341630863e-156, 'bert_score': -0.14327074587345123, 'perplexity': 3419914.0}\n",
      "Time Taken: 1853.06 seconds\n",
      "\n"
     ]
    }
   ],
   "source": [
    "import json\n",
    "import spacy\n",
    "import torch\n",
    "import nltk\n",
    "from nltk.translate.bleu_score import sentence_bleu\n",
    "from bert_score import BERTScorer\n",
    "import time\n",
    "\n",
    "\n",
    "# Download NLTK data for BLEU\n",
    "nltk.download('punkt')\n",
    "\n",
    "# Load a spaCy model for linguistic analysis\n",
    "nlp = spacy.load(\"en_core_web_sm\")\n",
    "\n",
    "# Load BERT scorer\n",
    "bert_scorer = BERTScorer(lang='en', rescale_with_baseline=True)\n",
    "\n",
    "# Set device\n",
    "device = 'cuda' if torch.cuda.is_available() else 'cpu'\n",
    "\n",
    "def evaluate_model(response, expected):\n",
    "    results = {\n",
    "        'accuracy': response.strip() == expected.strip(),\n",
    "        'fluency': None,\n",
    "        'coherence': None,\n",
    "        'bleu_score': None,\n",
    "        'bert_score': None,\n",
    "        'perplexity': None\n",
    "    }\n",
    "\n",
    "    # Check fluency\n",
    "    doc = nlp(response)\n",
    "    sentence_spans = list(doc.sents)\n",
    "    results['fluency'] = sum([1 for sent in sentence_spans if sent.text.strip()]) / len(sentence_spans)\n",
    "\n",
    "    # Check coherence\n",
    "    context_words = expected.split() if expected else []\n",
    "    response_words = response.split()\n",
    "\n",
    "    if context_words:\n",
    "        common_words = set(context_words).intersection(set(response_words))\n",
    "        coherence_score = len(common_words) / len(context_words) if len(context_words) > 0 else 0\n",
    "        results['coherence'] = coherence_score\n",
    "    else:\n",
    "        results['coherence'] = 0.5\n",
    "\n",
    "    # Adjust accuracy based on coherence score\n",
    "    if results['coherence'] >= 0.4:\n",
    "        results['accuracy'] = True\n",
    "\n",
    "    # Calculate BLEU score\n",
    "    reference = [expected.split()]  # BLEU requires references to be a list of lists\n",
    "    candidate = response.split()\n",
    "    results['bleu_score'] = sentence_bleu(reference, candidate)\n",
    "\n",
    "    # Calculate BERT score\n",
    "    P, R, F1 = bert_scorer.score([response], [expected])\n",
    "    results['bert_score'] = F1.mean().item()\n",
    "\n",
    "    # Calculate Perplexity with consistent batch sizing\n",
    "    inputs = tokenizer(response, return_tensors=\"pt\", padding=True, truncation=True).input_ids.to(device)\n",
    "    labels = tokenizer(expected, return_tensors=\"pt\", padding=True, truncation=True).input_ids.to(device)\n",
    "    \n",
    "    # Make sure inputs and labels are of the same shape\n",
    "    if inputs.shape != labels.shape:\n",
    "        # Adjust sizes by padding to match the longest sequence\n",
    "        max_length = max(inputs.shape[1], labels.shape[1])\n",
    "        inputs = torch.nn.functional.pad(inputs, (0, max_length - inputs.shape[1]), value=tokenizer.pad_token_id)\n",
    "        labels = torch.nn.functional.pad(labels, (0, max_length - labels.shape[1]), value=-100)  # Ignore padding in labels for loss calculation\n",
    "\n",
    "    with torch.no_grad():  # Disable gradient calculation for inference\n",
    "        outputs = model(inputs, labels=labels)\n",
    "        loss = outputs.loss\n",
    "        results['perplexity'] = torch.exp(loss).item()\n",
    "\n",
    "    return results\n",
    "\n",
    "def load_evaluation_data():\n",
    "    # Dummy implementation for loading expected responses\n",
    "    return {\n",
    "        'Hi, Sanjay. What else can you tell about healthy food?': \"Healthy food includes fruits, vegetables, and whole grains...\",\n",
    "        'Can you explain the benefits of meditation?': \"Meditation offers numerous benefits...\",\n",
    "        'What are the symptoms of high blood pressure?': \"Common symptoms include headaches, shortness of breath...\",\n",
    "        'Describe the process of photosynthesis.': \"Photosynthesis is the process by which green plants use sunlight...\",\n",
    "        'How do the body organs work?': \"Body organs work in a coordinated manner...\",\n",
    "        'Hi, Sanjay. What is your stance on yoga?': \"Yoga promotes physical and mental well-being...\",\n",
    "        'I have a doubt, are you really Sanjay? If so tell me a book written by you?': \"Yes, I'm Sanjay, and I wrote 'The Health Handbook'.\"\n",
    "    }\n",
    "\n",
    "def main():\n",
    "    queries = [\n",
    "        'Hi, Sanjay. What else can you tell about healthy food?',\n",
    "        'Can you explain the benefits of meditation?',\n",
    "        'What are the symptoms of high blood pressure?',\n",
    "        # 'Describe the process of photosynthesis.',\n",
    "        # 'How do the body organs work?',\n",
    "        # 'Hi, Sanjay. What is your stance on yoga?',\n",
    "        # 'I have a doubt, are you really Sanjay? If so tell me a book written by you?'\n",
    "    ]\n",
    "\n",
    "    evaluation_results = {}\n",
    "    timing_results = {}\n",
    "\n",
    "    for query in queries:\n",
    "        start_time = time.time()  # Start timer for the query\n",
    "        result = get_top_3_similar(query)\n",
    "        context = \" \".join([match['metadata']['text'] for match in result['matches']])\n",
    "        response = generate_response(context, query)\n",
    "        end_time = time.time()  # End timer for the query    \n",
    "        time_taken = end_time - start_time  # Calculate time taken\n",
    "        expected_response = load_evaluation_data().get(query, \"\")\n",
    "        evaluation_results[query] = evaluate_model(response, expected_response)\n",
    "        timing_results[query] = time_taken  # Store time taken for this query\n",
    "\n",
    "    for query, metrics in evaluation_results.items():\n",
    "        print(f\"Query: {query}\\nMetrics: {metrics}\\nTime Taken: {timing_results[query]:.2f} seconds\\n\")\n",
    "\n",
    "if __name__ == '__main__':\n",
    "    main()\n"
   ]
  },
  {
   "cell_type": "markdown",
   "metadata": {},
   "source": [
    "HYPERTUNED MODEL EVALUATION - QUERY SET 2"
   ]
  },
  {
   "cell_type": "code",
   "execution_count": 14,
   "metadata": {},
   "outputs": [
    {
     "name": "stderr",
     "output_type": "stream",
     "text": [
      "[nltk_data] Downloading package punkt to\n",
      "[nltk_data]     C:\\Users\\1rn17\\AppData\\Roaming\\nltk_data...\n",
      "[nltk_data]   Package punkt is already up-to-date!\n",
      "Some weights of RobertaModel were not initialized from the model checkpoint at roberta-large and are newly initialized: ['roberta.pooler.dense.bias', 'roberta.pooler.dense.weight']\n",
      "You should probably TRAIN this model on a down-stream task to be able to use it for predictions and inference.\n",
      "Setting `pad_token_id` to `eos_token_id`:None for open-end generation.\n",
      "c:\\Users\\1rn17\\chatbot\\.venv\\Lib\\site-packages\\transformers\\generation\\configuration_utils.py:590: UserWarning: `do_sample` is set to `False`. However, `temperature` is set to `0.5` -- this flag is only used in sample-based generation modes. You should set `do_sample=True` or unset `temperature`.\n",
      "  warnings.warn(\n",
      "Setting `pad_token_id` to `eos_token_id`:None for open-end generation.\n",
      "c:\\Users\\1rn17\\chatbot\\.venv\\Lib\\site-packages\\nltk\\translate\\bleu_score.py:577: UserWarning: \n",
      "The hypothesis contains 0 counts of 2-gram overlaps.\n",
      "Therefore the BLEU score evaluates to 0, independently of\n",
      "how many N-gram overlaps of lower order it contains.\n",
      "Consider using lower n-gram order or use SmoothingFunction()\n",
      "  warnings.warn(_msg)\n",
      "c:\\Users\\1rn17\\chatbot\\.venv\\Lib\\site-packages\\nltk\\translate\\bleu_score.py:577: UserWarning: \n",
      "The hypothesis contains 0 counts of 3-gram overlaps.\n",
      "Therefore the BLEU score evaluates to 0, independently of\n",
      "how many N-gram overlaps of lower order it contains.\n",
      "Consider using lower n-gram order or use SmoothingFunction()\n",
      "  warnings.warn(_msg)\n",
      "c:\\Users\\1rn17\\chatbot\\.venv\\Lib\\site-packages\\nltk\\translate\\bleu_score.py:577: UserWarning: \n",
      "The hypothesis contains 0 counts of 4-gram overlaps.\n",
      "Therefore the BLEU score evaluates to 0, independently of\n",
      "how many N-gram overlaps of lower order it contains.\n",
      "Consider using lower n-gram order or use SmoothingFunction()\n",
      "  warnings.warn(_msg)\n",
      "Setting `pad_token_id` to `eos_token_id`:None for open-end generation.\n"
     ]
    },
    {
     "name": "stdout",
     "output_type": "stream",
     "text": [
      "Query: How do the body organs work?\n",
      "Metrics: {'accuracy': True, 'fluency': 1.0, 'coherence': 0.5714285714285714, 'bleu_score': 1.3271132767804672e-79, 'bert_score': -0.12386838346719742, 'perplexity': 54642.30078125}\n",
      "Time Taken: 2061.90 seconds\n",
      "\n",
      "Query: Hi, Sanjay. What is your stance on yoga?\n",
      "Metrics: {'accuracy': False, 'fluency': 1.0, 'coherence': 0.3333333333333333, 'bleu_score': 4.057356662283959e-232, 'bert_score': -0.18590623140335083, 'perplexity': 408369.46875}\n",
      "Time Taken: 1923.14 seconds\n",
      "\n",
      "Query: I have a doubt, are you really Sanjay? If so tell me a book written by you?\n",
      "Metrics: {'accuracy': False, 'fluency': 1.0, 'coherence': 0.3333333333333333, 'bleu_score': 4.443136689601577e-232, 'bert_score': -0.060519952327013016, 'perplexity': 19591.228515625}\n",
      "Time Taken: 1871.89 seconds\n",
      "\n"
     ]
    }
   ],
   "source": [
    "import json\n",
    "import spacy\n",
    "import torch\n",
    "import nltk\n",
    "from nltk.translate.bleu_score import sentence_bleu\n",
    "from bert_score import BERTScorer\n",
    "import time\n",
    "\n",
    "\n",
    "# Download NLTK data for BLEU\n",
    "nltk.download('punkt')\n",
    "\n",
    "# Load a spaCy model for linguistic analysis\n",
    "nlp = spacy.load(\"en_core_web_sm\")\n",
    "\n",
    "# Load BERT scorer\n",
    "bert_scorer = BERTScorer(lang='en', rescale_with_baseline=True)\n",
    "\n",
    "# Set device\n",
    "device = 'cuda' if torch.cuda.is_available() else 'cpu'\n",
    "\n",
    "def evaluate_model(response, expected):\n",
    "    results = {\n",
    "        'accuracy': response.strip() == expected.strip(),\n",
    "        'fluency': None,\n",
    "        'coherence': None,\n",
    "        'bleu_score': None,\n",
    "        'bert_score': None,\n",
    "        'perplexity': None\n",
    "    }\n",
    "\n",
    "    # Check fluency\n",
    "    doc = nlp(response)\n",
    "    sentence_spans = list(doc.sents)\n",
    "    results['fluency'] = sum([1 for sent in sentence_spans if sent.text.strip()]) / len(sentence_spans)\n",
    "\n",
    "    # Check coherence\n",
    "    context_words = expected.split() if expected else []\n",
    "    response_words = response.split()\n",
    "\n",
    "    if context_words:\n",
    "        common_words = set(context_words).intersection(set(response_words))\n",
    "        coherence_score = len(common_words) / len(context_words) if len(context_words) > 0 else 0\n",
    "        results['coherence'] = coherence_score\n",
    "    else:\n",
    "        results['coherence'] = 0.5\n",
    "\n",
    "    # Adjust accuracy based on coherence score\n",
    "    if results['coherence'] >= 0.4:\n",
    "        results['accuracy'] = True\n",
    "\n",
    "    # Calculate BLEU score\n",
    "    reference = [expected.split()]  # BLEU requires references to be a list of lists\n",
    "    candidate = response.split()\n",
    "    results['bleu_score'] = sentence_bleu(reference, candidate)\n",
    "\n",
    "    # Calculate BERT score\n",
    "    P, R, F1 = bert_scorer.score([response], [expected])\n",
    "    results['bert_score'] = F1.mean().item()\n",
    "\n",
    "    # Calculate Perplexity with consistent batch sizing\n",
    "    inputs = tokenizer(response, return_tensors=\"pt\", padding=True, truncation=True).input_ids.to(device)\n",
    "    labels = tokenizer(expected, return_tensors=\"pt\", padding=True, truncation=True).input_ids.to(device)\n",
    "    \n",
    "    # Make sure inputs and labels are of the same shape\n",
    "    if inputs.shape != labels.shape:\n",
    "        # Adjust sizes by padding to match the longest sequence\n",
    "        max_length = max(inputs.shape[1], labels.shape[1])\n",
    "        inputs = torch.nn.functional.pad(inputs, (0, max_length - inputs.shape[1]), value=tokenizer.pad_token_id)\n",
    "        labels = torch.nn.functional.pad(labels, (0, max_length - labels.shape[1]), value=-100)  # Ignore padding in labels for loss calculation\n",
    "\n",
    "    with torch.no_grad():  # Disable gradient calculation for inference\n",
    "        outputs = model(inputs, labels=labels)\n",
    "        loss = outputs.loss\n",
    "        results['perplexity'] = torch.exp(loss).item()\n",
    "\n",
    "    return results\n",
    "\n",
    "def load_evaluation_data():\n",
    "    # Dummy implementation for loading expected responses\n",
    "    return {\n",
    "        # 'Hi, Sanjay. What else can you tell about healthy food?': \"Healthy food includes fruits, vegetables, and whole grains...\",\n",
    "        # 'Can you explain the benefits of meditation?': \"Meditation offers numerous benefits...\",\n",
    "        # 'What are the symptoms of high blood pressure?': \"Common symptoms include headaches, shortness of breath...\",\n",
    "        # 'Describe the process of photosynthesis.': \"Photosynthesis is the process by which green plants use sunlight...\",\n",
    "        'How do the body organs work?': \"Body organs work in a coordinated manner...\",\n",
    "        'Hi, Sanjay. What is your stance on yoga?': \"Yoga promotes physical and mental well-being...\",\n",
    "        'I have a doubt, are you really Sanjay? If so tell me a book written by you?': \"Yes, I'm Sanjay, and I wrote 'The Health Handbook'.\"\n",
    "    }\n",
    "\n",
    "def main():\n",
    "    queries = [\n",
    "        # 'Hi, Sanjay. What else can you tell about healthy food?',\n",
    "        # 'Can you explain the benefits of meditation?',\n",
    "        # 'What are the symptoms of high blood pressure?',\n",
    "        # 'Describe the process of photosynthesis.',\n",
    "        'How do the body organs work?',\n",
    "        'Hi, Sanjay. What is your stance on yoga?',\n",
    "        'I have a doubt, are you really Sanjay? If so tell me a book written by you?'\n",
    "    ]\n",
    "\n",
    "    evaluation_results = {}\n",
    "    timing_results = {}\n",
    "\n",
    "    for query in queries:\n",
    "        start_time = time.time()  # Start timer for the query\n",
    "        result = get_top_3_similar(query)\n",
    "        context = \" \".join([match['metadata']['text'] for match in result['matches']])\n",
    "        response = generate_response(context, query)\n",
    "        end_time = time.time()  # End timer for the query    \n",
    "        time_taken = end_time - start_time  # Calculate time taken\n",
    "        expected_response = load_evaluation_data().get(query, \"\")\n",
    "        evaluation_results[query] = evaluate_model(response, expected_response)\n",
    "        timing_results[query] = time_taken  # Store time taken for this query\n",
    "\n",
    "    for query, metrics in evaluation_results.items():\n",
    "        print(f\"Query: {query}\\nMetrics: {metrics}\\nTime Taken: {timing_results[query]:.2f} seconds\\n\")\n",
    "\n",
    "if __name__ == '__main__':\n",
    "    main()\n"
   ]
  },
  {
   "cell_type": "markdown",
   "metadata": {},
   "source": [
    "END"
   ]
  }
 ],
 "metadata": {
  "kernelspec": {
   "display_name": ".venv",
   "language": "python",
   "name": "python3"
  },
  "language_info": {
   "codemirror_mode": {
    "name": "ipython",
    "version": 3
   },
   "file_extension": ".py",
   "mimetype": "text/x-python",
   "name": "python",
   "nbconvert_exporter": "python",
   "pygments_lexer": "ipython3",
   "version": "3.12.3"
  }
 },
 "nbformat": 4,
 "nbformat_minor": 2
}
